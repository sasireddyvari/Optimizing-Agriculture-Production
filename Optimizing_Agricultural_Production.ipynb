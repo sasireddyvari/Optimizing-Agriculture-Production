{
  "nbformat": 4,
  "nbformat_minor": 0,
  "metadata": {
    "kernelspec": {
      "display_name": "Python 3",
      "language": "python",
      "name": "python3"
    },
    "language_info": {
      "codemirror_mode": {
        "name": "ipython",
        "version": 3
      },
      "file_extension": ".py",
      "mimetype": "text/x-python",
      "name": "python",
      "nbconvert_exporter": "python",
      "pygments_lexer": "ipython3",
      "version": "3.6.8"
    },
    "colab": {
      "name": "Optimizing Agricultural Production.ipynb",
      "provenance": []
    }
  },
  "cells": [
    {
      "cell_type": "markdown",
      "metadata": {
        "id": "-Bx_kD5FdXh5"
      },
      "source": [
        "### Importing the Libraries"
      ]
    },
    {
      "cell_type": "code",
      "metadata": {
        "id": "pia_NUlndXiD"
      },
      "source": [
        "# for manipulations\n",
        "import numpy as np\n",
        "import pandas as pd\n",
        "\n",
        "# for data visualizations\n",
        "import matplotlib.pyplot as plt\n",
        "import seaborn as sns\n",
        "plt.style.use('fivethirtyeight')\n",
        "\n",
        "# for interactivity\n",
        "import ipywidgets\n",
        "from ipywidgets import interact"
      ],
      "execution_count": null,
      "outputs": []
    },
    {
      "cell_type": "markdown",
      "metadata": {
        "id": "EktdlpQ3dXiE"
      },
      "source": [
        "### Reading the Dataset"
      ]
    },
    {
      "cell_type": "code",
      "metadata": {
        "id": "hbBD_AINdXiF"
      },
      "source": [
        "# lets read the dataset\n",
        "data = pd.read_csv('data.csv')\n",
        "\n",
        "# lets check teh shape of the dataset\n",
        "print(\"Shape of the Dataset :\", data.shape)"
      ],
      "execution_count": null,
      "outputs": []
    },
    {
      "cell_type": "code",
      "metadata": {
        "id": "0RKbG6zDdXiH",
        "outputId": "d01c1d19-6c80-4c48-ad70-e64d035714e2"
      },
      "source": [
        "# lets check the head of the dataset\n",
        "data.head()"
      ],
      "execution_count": null,
      "outputs": [
        {
          "output_type": "execute_result",
          "data": {
            "text/html": [
              "<div>\n",
              "<style scoped>\n",
              "    .dataframe tbody tr th:only-of-type {\n",
              "        vertical-align: middle;\n",
              "    }\n",
              "\n",
              "    .dataframe tbody tr th {\n",
              "        vertical-align: top;\n",
              "    }\n",
              "\n",
              "    .dataframe thead th {\n",
              "        text-align: right;\n",
              "    }\n",
              "</style>\n",
              "<table border=\"1\" class=\"dataframe\">\n",
              "  <thead>\n",
              "    <tr style=\"text-align: right;\">\n",
              "      <th></th>\n",
              "      <th>N</th>\n",
              "      <th>P</th>\n",
              "      <th>K</th>\n",
              "      <th>temperature</th>\n",
              "      <th>humidity</th>\n",
              "      <th>ph</th>\n",
              "      <th>rainfall</th>\n",
              "      <th>label</th>\n",
              "    </tr>\n",
              "  </thead>\n",
              "  <tbody>\n",
              "    <tr>\n",
              "      <th>0</th>\n",
              "      <td>90</td>\n",
              "      <td>42</td>\n",
              "      <td>43</td>\n",
              "      <td>20.879744</td>\n",
              "      <td>82.002744</td>\n",
              "      <td>6.502985</td>\n",
              "      <td>202.935536</td>\n",
              "      <td>rice</td>\n",
              "    </tr>\n",
              "    <tr>\n",
              "      <th>1</th>\n",
              "      <td>85</td>\n",
              "      <td>58</td>\n",
              "      <td>41</td>\n",
              "      <td>21.770462</td>\n",
              "      <td>80.319644</td>\n",
              "      <td>7.038096</td>\n",
              "      <td>226.655537</td>\n",
              "      <td>rice</td>\n",
              "    </tr>\n",
              "    <tr>\n",
              "      <th>2</th>\n",
              "      <td>60</td>\n",
              "      <td>55</td>\n",
              "      <td>44</td>\n",
              "      <td>23.004459</td>\n",
              "      <td>82.320763</td>\n",
              "      <td>7.840207</td>\n",
              "      <td>263.964248</td>\n",
              "      <td>rice</td>\n",
              "    </tr>\n",
              "    <tr>\n",
              "      <th>3</th>\n",
              "      <td>74</td>\n",
              "      <td>35</td>\n",
              "      <td>40</td>\n",
              "      <td>26.491096</td>\n",
              "      <td>80.158363</td>\n",
              "      <td>6.980401</td>\n",
              "      <td>242.864034</td>\n",
              "      <td>rice</td>\n",
              "    </tr>\n",
              "    <tr>\n",
              "      <th>4</th>\n",
              "      <td>78</td>\n",
              "      <td>42</td>\n",
              "      <td>42</td>\n",
              "      <td>20.130175</td>\n",
              "      <td>81.604873</td>\n",
              "      <td>7.628473</td>\n",
              "      <td>262.717340</td>\n",
              "      <td>rice</td>\n",
              "    </tr>\n",
              "  </tbody>\n",
              "</table>\n",
              "</div>"
            ],
            "text/plain": [
              "    N   P   K  temperature   humidity        ph    rainfall label\n",
              "0  90  42  43    20.879744  82.002744  6.502985  202.935536  rice\n",
              "1  85  58  41    21.770462  80.319644  7.038096  226.655537  rice\n",
              "2  60  55  44    23.004459  82.320763  7.840207  263.964248  rice\n",
              "3  74  35  40    26.491096  80.158363  6.980401  242.864034  rice\n",
              "4  78  42  42    20.130175  81.604873  7.628473  262.717340  rice"
            ]
          },
          "metadata": {
            "tags": []
          },
          "execution_count": 4
        }
      ]
    },
    {
      "cell_type": "markdown",
      "metadata": {
        "id": "yOHbOPMWdXiI"
      },
      "source": [
        "## Description for each of the columns in the Dataset\n",
        "\n",
        "N - ratio of Nitrogen content in soil\n",
        "P - ratio of Phosphorous content in soil\n",
        "K - ration of Potassium content in soil\n",
        "temperature - temperature in degree Celsius\n",
        "humidity - relative humidity in %\n",
        "ph - ph value of the soil\n",
        "rainfall - rainfall in mm"
      ]
    },
    {
      "cell_type": "code",
      "metadata": {
        "id": "q06JrxdKdXiI",
        "outputId": "edcadcd0-3cad-466b-93d6-95919d987be5"
      },
      "source": [
        "# lets check if there is any missing value present in the dataset\n",
        "data.isnull().sum()"
      ],
      "execution_count": null,
      "outputs": [
        {
          "output_type": "execute_result",
          "data": {
            "text/plain": [
              "N              0\n",
              "P              0\n",
              "K              0\n",
              "temperature    0\n",
              "humidity       0\n",
              "ph             0\n",
              "rainfall       0\n",
              "label          0\n",
              "dtype: int64"
            ]
          },
          "metadata": {
            "tags": []
          },
          "execution_count": 5
        }
      ]
    },
    {
      "cell_type": "code",
      "metadata": {
        "id": "cKJ2b6wydXiK",
        "outputId": "5b740a87-1a96-46b9-a502-17215e8b1e19"
      },
      "source": [
        "# lets check the Crops present in this Dataset\n",
        "data['label'].value_counts()"
      ],
      "execution_count": null,
      "outputs": [
        {
          "output_type": "execute_result",
          "data": {
            "text/plain": [
              "pomegranate    100\n",
              "lentil         100\n",
              "coffee         100\n",
              "mothbeans      100\n",
              "grapes         100\n",
              "orange         100\n",
              "muskmelon      100\n",
              "watermelon     100\n",
              "blackgram      100\n",
              "banana         100\n",
              "cotton         100\n",
              "kidneybeans    100\n",
              "jute           100\n",
              "pigeonpeas     100\n",
              "papaya         100\n",
              "coconut        100\n",
              "mango          100\n",
              "apple          100\n",
              "rice           100\n",
              "maize          100\n",
              "chickpea       100\n",
              "mungbean       100\n",
              "Name: label, dtype: int64"
            ]
          },
          "metadata": {
            "tags": []
          },
          "execution_count": 6
        }
      ]
    },
    {
      "cell_type": "markdown",
      "metadata": {
        "id": "vlbZ8RxLdXiL"
      },
      "source": [
        "### Descriptive Statistics"
      ]
    },
    {
      "cell_type": "code",
      "metadata": {
        "id": "I2O311-mdXiN",
        "outputId": "a2ffa374-ca26-4feb-de92-06da5ff2e72a"
      },
      "source": [
        "# lets check the Summary for all the crops\n",
        "\n",
        "print(\"Average Ratio of Nitrogen in the Soil : {0:.2f}\".format(data['N'].mean()))\n",
        "print(\"Average Ratio of Phosphorous in the Soil : {0:.2f}\".format(data['P'].mean()))\n",
        "print(\"Average Ratio of Potassium in the Soil : {0:.2f}\".format(data['K'].mean()))\n",
        "print(\"Average Tempature in Celsius : {0:.2f}\".format(data['temperature'].mean()))\n",
        "print(\"Average Relative Humidity in % : {0:.2f}\".format(data['humidity'].mean()))\n",
        "print(\"Average PH Value of the soil : {0:.2f}\".format(data['ph'].mean()))\n",
        "print(\"Average Rainfall in mm : {0:.2f}\".format(data['rainfall'].mean()))"
      ],
      "execution_count": null,
      "outputs": [
        {
          "output_type": "stream",
          "text": [
            "Average Ratio of Nitrogen in the Soil : 50.55\n",
            "Average Ratio of Phosphorous in the Soil : 53.36\n",
            "Average Ratio of Potassium in the Soil : 48.15\n",
            "Average Tempature in Celsius : 25.62\n",
            "Average Relative Humidity in % : 71.48\n",
            "Average PH Value of the soil : 6.47\n",
            "Average Rainfall in mm : 103.46\n"
          ],
          "name": "stdout"
        }
      ]
    },
    {
      "cell_type": "code",
      "metadata": {
        "colab": {
          "referenced_widgets": [
            "22a562b9d7c843abbf5d86853fd10092"
          ]
        },
        "id": "423tIosrdXiN",
        "outputId": "c8562544-027b-4e9f-e177-1bbb22d53ed5"
      },
      "source": [
        "# lets check the Summary Statistics for each of the Crops\n",
        "\n",
        "@interact\n",
        "def summary(crops = list(data['label'].value_counts().index)):\n",
        "    x = data[data['label'] == crops]\n",
        "    print(\"---------------------------------------------\")\n",
        "    print(\"Statistics for Nitrogen\")\n",
        "    print(\"Minimum Nitrigen required :\", x['N'].min())\n",
        "    print(\"Average Nitrogen required :\", x['N'].mean())\n",
        "    print(\"Maximum Nitrogen required :\", x['N'].max()) \n",
        "    print(\"---------------------------------------------\")\n",
        "    print(\"Statistics for Phosphorous\")\n",
        "    print(\"Minimum Phosphorous required :\", x['P'].min())\n",
        "    print(\"Average Phosphorous required :\", x['P'].mean())\n",
        "    print(\"Maximum Phosphorous required :\", x['P'].max()) \n",
        "    print(\"---------------------------------------------\")\n",
        "    print(\"Statistics for Potassium\")\n",
        "    print(\"Minimum Potassium required :\", x['K'].min())\n",
        "    print(\"Average Potassium required :\", x['K'].mean())\n",
        "    print(\"Maximum Potassium required :\", x['K'].max()) \n",
        "    print(\"---------------------------------------------\")\n",
        "    print(\"Statistics for Temperature\")\n",
        "    print(\"Minimum Temperature required : {0:.2f}\".format(x['temperature'].min()))\n",
        "    print(\"Average Temperature required : {0:.2f}\".format(x['temperature'].mean()))\n",
        "    print(\"Maximum Temperature required : {0:.2f}\".format(x['temperature'].max()))\n",
        "    print(\"---------------------------------------------\")\n",
        "    print(\"Statistics for Humidity\")\n",
        "    print(\"Minimum Humidity required : {0:.2f}\".format(x['humidity'].min()))\n",
        "    print(\"Average Humidity required : {0:.2f}\".format(x['humidity'].mean()))\n",
        "    print(\"Maximum Humidity required : {0:.2f}\".format(x['humidity'].max()))\n",
        "    print(\"---------------------------------------------\")\n",
        "    print(\"Statistics for PH\")\n",
        "    print(\"Minimum PH required : {0:.2f}\".format(x['ph'].min()))\n",
        "    print(\"Average PH required : {0:.2f}\".format(x['ph'].mean()))\n",
        "    print(\"Maximum PH required : {0:.2f}\".format(x['ph'].max()))\n",
        "    print(\"---------------------------------------------\")\n",
        "    print(\"Statistics for Rainfall\")\n",
        "    print(\"Minimum Rainfall required : {0:.2f}\".format(x['rainfall'].min()))\n",
        "    print(\"Average Rainfall required : {0:.2f}\".format(x['rainfall'].mean()))\n",
        "    print(\"Maximum Rainfall required : {0:.2f}\".format(x['rainfall'].max()))"
      ],
      "execution_count": null,
      "outputs": [
        {
          "output_type": "display_data",
          "data": {
            "application/vnd.jupyter.widget-view+json": {
              "model_id": "22a562b9d7c843abbf5d86853fd10092",
              "version_major": 2,
              "version_minor": 0
            },
            "text/plain": [
              "interactive(children=(Dropdown(description='crops', options=('pomegranate', 'lentil', 'coffee', 'mothbeans', '…"
            ]
          },
          "metadata": {
            "tags": []
          }
        }
      ]
    },
    {
      "cell_type": "code",
      "metadata": {
        "colab": {
          "referenced_widgets": [
            "10ad6ccf7598439e98e15c2b06be683d"
          ]
        },
        "id": "6MP52dZJdXiO",
        "outputId": "15ce2998-4dcb-434b-8c5b-a2e03f6aff66"
      },
      "source": [
        "## Lets compare the Average Requirement for each crops with average conditions\n",
        "\n",
        "@interact\n",
        "def compare(conditions = ['N','P','K','temperature','ph','humidity','rainfall']):\n",
        "    print(\"Average Value for\", conditions,\"is {0:.2f}\".format(data[conditions].mean()))\n",
        "    print(\"----------------------------------------------\")\n",
        "    print(\"Rice : {0:.2f}\".format(data[(data['label'] == 'rice')][conditions].mean()))\n",
        "    print(\"Black Grams : {0:.2f}\".format(data[data['label'] == 'blackgram'][conditions].mean()))\n",
        "    print(\"Banana : {0:.2f}\".format(data[(data['label'] == 'banana')][conditions].mean()))\n",
        "    print(\"Jute : {0:.2f}\".format(data[data['label'] == 'jute'][conditions].mean()))\n",
        "    print(\"Coconut : {0:.2f}\".format(data[(data['label'] == 'coconut')][conditions].mean()))\n",
        "    print(\"Apple : {0:.2f}\".format(data[data['label'] == 'apple'][conditions].mean()))\n",
        "    print(\"Papaya : {0:.2f}\".format(data[(data['label'] == 'papaya')][conditions].mean()))\n",
        "    print(\"Muskmelon : {0:.2f}\".format(data[data['label'] == 'muskmelon'][conditions].mean()))\n",
        "    print(\"Grapes : {0:.2f}\".format(data[(data['label'] == 'grapes')][conditions].mean()))\n",
        "    print(\"Watermelon : {0:.2f}\".format(data[data['label'] == 'watermelon'][conditions].mean()))\n",
        "    print(\"Kidney Beans: {0:.2f}\".format(data[(data['label'] == 'kidneybeans')][conditions].mean()))\n",
        "    print(\"Mung Beans : {0:.2f}\".format(data[data['label'] == 'mungbean'][conditions].mean()))\n",
        "    print(\"Oranges : {0:.2f}\".format(data[(data['label'] == 'orange')][conditions].mean()))\n",
        "    print(\"Chick Peas : {0:.2f}\".format(data[data['label'] == 'chickpea'][conditions].mean()))\n",
        "    print(\"Lentils : {0:.2f}\".format(data[(data['label'] == 'lentil')][conditions].mean()))\n",
        "    print(\"Cotton : {0:.2f}\".format(data[data['label'] == 'cotton'][conditions].mean()))\n",
        "    print(\"Maize : {0:.2f}\".format(data[(data['label'] == 'maize')][conditions].mean()))\n",
        "    print(\"Moth Beans : {0:.2f}\".format(data[data['label'] == 'mothbeans'][conditions].mean()))\n",
        "    print(\"Pigeon Peas : {0:.2f}\".format(data[(data['label'] == 'pigeonpeas')][conditions].mean()))\n",
        "    print(\"Mango : {0:.2f}\".format(data[data['label'] == 'mango'][conditions].mean()))\n",
        "    print(\"Pomegranate : {0:.2f}\".format(data[(data['label'] == 'pomegranate')][conditions].mean()))\n",
        "    print(\"Coffee : {0:.2f}\".format(data[data['label'] == 'coffee'][conditions].mean()))"
      ],
      "execution_count": null,
      "outputs": [
        {
          "output_type": "display_data",
          "data": {
            "application/vnd.jupyter.widget-view+json": {
              "model_id": "10ad6ccf7598439e98e15c2b06be683d",
              "version_major": 2,
              "version_minor": 0
            },
            "text/plain": [
              "interactive(children=(Dropdown(description='conditions', options=('N', 'P', 'K', 'temperature', 'ph', 'humidit…"
            ]
          },
          "metadata": {
            "tags": []
          }
        }
      ]
    },
    {
      "cell_type": "code",
      "metadata": {
        "colab": {
          "referenced_widgets": [
            "51bc5659482b4da7b2cd760db25e20ba"
          ]
        },
        "id": "JqZehADEdXiP",
        "outputId": "283a7700-d42a-4733-b7f0-5f4c557e6032"
      },
      "source": [
        "# lets make this funtion more Intuitive\n",
        "\n",
        "@interact\n",
        "def compare(conditions = ['N','P','K','temperature','ph','humidity','rainfall']):\n",
        "    print(\"Crops which require greater than average\", conditions,'\\n')\n",
        "    print(data[data[conditions] > data[conditions].mean()]['label'].unique())\n",
        "    print(\"----------------------------------------------\")\n",
        "    print(\"Crops which require less than average\", conditions,'\\n')\n",
        "    print(data[data[conditions] <= data[conditions].mean()]['label'].unique())"
      ],
      "execution_count": null,
      "outputs": [
        {
          "output_type": "display_data",
          "data": {
            "application/vnd.jupyter.widget-view+json": {
              "model_id": "51bc5659482b4da7b2cd760db25e20ba",
              "version_major": 2,
              "version_minor": 0
            },
            "text/plain": [
              "interactive(children=(Dropdown(description='conditions', options=('N', 'P', 'K', 'temperature', 'ph', 'humidit…"
            ]
          },
          "metadata": {
            "tags": []
          }
        }
      ]
    },
    {
      "cell_type": "markdown",
      "metadata": {
        "id": "pvEfPgLxdXiR"
      },
      "source": [
        "### Analyzing Agricultural Conditions"
      ]
    },
    {
      "cell_type": "code",
      "metadata": {
        "id": "RlhLTc2bdXiR",
        "outputId": "dabac90d-40dc-4ebe-a5d9-700f1b384382"
      },
      "source": [
        "### Lets check the distribution of Agricultural Conditions\n",
        "\n",
        "plt.rcParams['figure.figsize'] = (15, 7)\n",
        "\n",
        "plt.subplot(2, 4, 1)\n",
        "sns.distplot(data['N'], color = 'lightgrey')\n",
        "plt.xlabel('Ratio of Nitrogen', fontsize = 12)\n",
        "plt.grid()\n",
        "\n",
        "plt.subplot(2, 4, 2)\n",
        "sns.distplot(data['P'], color = 'skyblue')\n",
        "plt.xlabel('Ratio of Phosphorous', fontsize = 12)\n",
        "plt.grid()\n",
        "\n",
        "plt.subplot(2, 4, 3)\n",
        "sns.distplot(data['K'], color ='darkblue')\n",
        "plt.xlabel('Ratio of Potassium', fontsize = 12)\n",
        "plt.grid()\n",
        "\n",
        "plt.subplot(2, 4, 4)\n",
        "sns.distplot(data['temperature'], color = 'black')\n",
        "plt.xlabel('Temperature', fontsize = 12)\n",
        "plt.grid()\n",
        "\n",
        "plt.subplot(2, 4, 5)\n",
        "sns.distplot(data['rainfall'], color = 'grey')\n",
        "plt.xlabel('Rainfall', fontsize = 12)\n",
        "plt.grid()\n",
        "\n",
        "plt.subplot(2, 4, 6)\n",
        "sns.distplot(data['humidity'], color = 'lightgreen')\n",
        "plt.xlabel('Humidity', fontsize = 12)\n",
        "plt.grid()\n",
        "\n",
        "plt.subplot(2, 4, 7)\n",
        "sns.distplot(data['ph'], color = 'darkgreen')\n",
        "plt.xlabel('pH Level', fontsize = 12)\n",
        "plt.grid()\n",
        "\n",
        "plt.suptitle('Distribution for Agricultural Conditions', fontsize = 20)\n",
        "plt.show()\n"
      ],
      "execution_count": null,
      "outputs": [
        {
          "output_type": "display_data",
          "data": {
            "image/png": "[encoded data removed]",
            "text/plain": [
              "<Figure size 1080x504 with 7 Axes>"
            ]
          },
          "metadata": {
            "tags": [],
            "needs_background": "light"
          }
        }
      ]
    },
    {
      "cell_type": "code",
      "metadata": {
        "id": "MaDt8VYPdXiS",
        "outputId": "72aa6378-f1cd-4165-b6e9-be03245994b9"
      },
      "source": [
        "## Lets find out some Interesting Facts\n",
        "\n",
        "print(\"Some Interesting Patterns\")\n",
        "print(\"---------------------------------\")\n",
        "print(\"Crops which requires very High Ratio of Nitrogen Content in Soil:\", data[data['N'] > 120]['label'].unique())\n",
        "print(\"Crops which requires very High Ratio of Phosphorous Content in Soil:\", data[data['P'] > 100]['label'].unique())\n",
        "print(\"Crops which requires very High Ratio of Potassium Content in Soil:\", data[data['K'] > 200]['label'].unique())\n",
        "print(\"Crops which requires very High Rainfall:\", data[data['rainfall'] > 200]['label'].unique())\n",
        "print(\"Crops which requires very Low Temperature :\", data[data['temperature'] < 10]['label'].unique())\n",
        "print(\"Crops which requires very High Temperature :\", data[data['temperature'] > 40]['label'].unique())\n",
        "print(\"Crops which requires very Low Humidity:\", data[data['humidity'] < 20]['label'].unique())\n",
        "print(\"Crops which requires very Low pH:\", data[data['ph'] < 4]['label'].unique())\n",
        "print(\"Crops which requires very High pH:\", data[data['ph'] > 9]['label'].unique())"
      ],
      "execution_count": null,
      "outputs": [
        {
          "output_type": "stream",
          "text": [
            "Some Interesting Patterns\n",
            "---------------------------------\n",
            "Crops which requires very High Ratio of Nitrogen Content in Soil: ['cotton']\n",
            "Crops which requires very High Ratio of Phosphorous Content in Soil: ['grapes' 'apple']\n",
            "Crops which requires very High Ratio of Potassium Content in Soil: ['grapes' 'apple']\n",
            "Crops which requires very High Rainfall: ['rice' 'papaya' 'coconut']\n",
            "Crops which requires very Low Temperature : ['grapes']\n",
            "Crops which requires very High Temperature : ['grapes' 'papaya']\n",
            "Crops which requires very Low Humidity: ['chickpea' 'kidneybeans']\n",
            "Crops which requires very Low pH: ['mothbeans']\n",
            "Crops which requires very High pH: ['mothbeans']\n"
          ],
          "name": "stdout"
        }
      ]
    },
    {
      "cell_type": "code",
      "metadata": {
        "id": "PBLTe0mwdXiT",
        "outputId": "33b664dc-3509-4ab4-ded4-56f027716e25"
      },
      "source": [
        "### Lets understand which crops can only be Grown in Summer Season, Winter Season and Rainy Season\n",
        "\n",
        "print(\"Summer Crops\")\n",
        "print(data[(data['temperature'] > 30) & (data['humidity'] > 50)]['label'].unique())\n",
        "print(\"-----------------------------------\")\n",
        "print(\"Winter Crops\")\n",
        "print(data[(data['temperature'] < 20) & (data['humidity'] > 30)]['label'].unique())\n",
        "print(\"-----------------------------------\")\n",
        "print(\"Rainy Crops\")\n",
        "print(data[(data['rainfall'] > 200) & (data['humidity'] > 30)]['label'].unique())"
      ],
      "execution_count": null,
      "outputs": [
        {
          "output_type": "stream",
          "text": [
            "Summer Crops\n",
            "['pigeonpeas' 'mothbeans' 'blackgram' 'mango' 'grapes' 'orange' 'papaya']\n",
            "-----------------------------------\n",
            "Winter Crops\n",
            "['maize' 'pigeonpeas' 'lentil' 'pomegranate' 'grapes' 'orange']\n",
            "-----------------------------------\n",
            "Rainy Crops\n",
            "['rice' 'papaya' 'coconut']\n"
          ],
          "name": "stdout"
        }
      ]
    },
    {
      "cell_type": "markdown",
      "metadata": {
        "id": "rJaJyR6KdXiV"
      },
      "source": [
        "### Clustering Similar Crops"
      ]
    },
    {
      "cell_type": "code",
      "metadata": {
        "id": "8ESWqRM4dXiW",
        "outputId": "b6174d6d-1fb1-4f88-f293-0343d77d900c"
      },
      "source": [
        "### Lets try to Cluster these Crops\n",
        "\n",
        "# lets import the warnings library so that we can avoid warnings\n",
        "import warnings\n",
        "warnings.filterwarnings('ignore')\n",
        "\n",
        "# Lets select the Spending score, and Annual Income Columns from the Data\n",
        "x = data.loc[:, ['N','P','K','temperature','ph','humidity','rainfall']].values\n",
        "\n",
        "# let's check the shape of x\n",
        "print(x.shape)\n",
        "\n",
        "# lets convert this data into a dataframe\n",
        "x_data  = pd.DataFrame(x)\n",
        "x_data.head()"
      ],
      "execution_count": null,
      "outputs": [
        {
          "output_type": "stream",
          "text": [
            "(2200, 7)\n"
          ],
          "name": "stdout"
        },
        {
          "output_type": "execute_result",
          "data": {
            "text/html": [
              "<div>\n",
              "<style scoped>\n",
              "    .dataframe tbody tr th:only-of-type {\n",
              "        vertical-align: middle;\n",
              "    }\n",
              "\n",
              "    .dataframe tbody tr th {\n",
              "        vertical-align: top;\n",
              "    }\n",
              "\n",
              "    .dataframe thead th {\n",
              "        text-align: right;\n",
              "    }\n",
              "</style>\n",
              "<table border=\"1\" class=\"dataframe\">\n",
              "  <thead>\n",
              "    <tr style=\"text-align: right;\">\n",
              "      <th></th>\n",
              "      <th>0</th>\n",
              "      <th>1</th>\n",
              "      <th>2</th>\n",
              "      <th>3</th>\n",
              "      <th>4</th>\n",
              "      <th>5</th>\n",
              "      <th>6</th>\n",
              "    </tr>\n",
              "  </thead>\n",
              "  <tbody>\n",
              "    <tr>\n",
              "      <th>0</th>\n",
              "      <td>90.0</td>\n",
              "      <td>42.0</td>\n",
              "      <td>43.0</td>\n",
              "      <td>20.879744</td>\n",
              "      <td>6.502985</td>\n",
              "      <td>82.002744</td>\n",
              "      <td>202.935536</td>\n",
              "    </tr>\n",
              "    <tr>\n",
              "      <th>1</th>\n",
              "      <td>85.0</td>\n",
              "      <td>58.0</td>\n",
              "      <td>41.0</td>\n",
              "      <td>21.770462</td>\n",
              "      <td>7.038096</td>\n",
              "      <td>80.319644</td>\n",
              "      <td>226.655537</td>\n",
              "    </tr>\n",
              "    <tr>\n",
              "      <th>2</th>\n",
              "      <td>60.0</td>\n",
              "      <td>55.0</td>\n",
              "      <td>44.0</td>\n",
              "      <td>23.004459</td>\n",
              "      <td>7.840207</td>\n",
              "      <td>82.320763</td>\n",
              "      <td>263.964248</td>\n",
              "    </tr>\n",
              "    <tr>\n",
              "      <th>3</th>\n",
              "      <td>74.0</td>\n",
              "      <td>35.0</td>\n",
              "      <td>40.0</td>\n",
              "      <td>26.491096</td>\n",
              "      <td>6.980401</td>\n",
              "      <td>80.158363</td>\n",
              "      <td>242.864034</td>\n",
              "    </tr>\n",
              "    <tr>\n",
              "      <th>4</th>\n",
              "      <td>78.0</td>\n",
              "      <td>42.0</td>\n",
              "      <td>42.0</td>\n",
              "      <td>20.130175</td>\n",
              "      <td>7.628473</td>\n",
              "      <td>81.604873</td>\n",
              "      <td>262.717340</td>\n",
              "    </tr>\n",
              "  </tbody>\n",
              "</table>\n",
              "</div>"
            ],
            "text/plain": [
              "      0     1     2          3         4          5           6\n",
              "0  90.0  42.0  43.0  20.879744  6.502985  82.002744  202.935536\n",
              "1  85.0  58.0  41.0  21.770462  7.038096  80.319644  226.655537\n",
              "2  60.0  55.0  44.0  23.004459  7.840207  82.320763  263.964248\n",
              "3  74.0  35.0  40.0  26.491096  6.980401  80.158363  242.864034\n",
              "4  78.0  42.0  42.0  20.130175  7.628473  81.604873  262.717340"
            ]
          },
          "metadata": {
            "tags": []
          },
          "execution_count": 14
        }
      ]
    },
    {
      "cell_type": "code",
      "metadata": {
        "id": "sNrjdyl0dXiX",
        "outputId": "3aa63ee0-fc51-4242-a9a9-ed486212835b"
      },
      "source": [
        "# lets determine the Optimum Number of Clusters within the Dataset\n",
        "\n",
        "from sklearn.cluster import KMeans\n",
        "plt.rcParams['figure.figsize'] = (10, 4)\n",
        "\n",
        "wcss = []\n",
        "for i in range(1, 11):\n",
        "    km = KMeans(n_clusters = i, init = 'k-means++', max_iter = 300, n_init = 10, random_state = 0)\n",
        "    km.fit(x)\n",
        "    wcss.append(km.inertia_)\n",
        "\n",
        "# lets plot the results\n",
        "plt.plot(range(1, 11), wcss)\n",
        "plt.title('The Elbow Method', fontsize = 20)\n",
        "plt.xlabel('No. of Clusters')\n",
        "plt.ylabel('wcss')\n",
        "plt.show()"
      ],
      "execution_count": null,
      "outputs": [
        {
          "output_type": "display_data",
          "data": {
            "image/png": "[encoded data removed]",
            "text/plain": [
              "<Figure size 720x288 with 1 Axes>"
            ]
          },
          "metadata": {
            "tags": [],
            "needs_background": "light"
          }
        }
      ]
    },
    {
      "cell_type": "code",
      "metadata": {
        "id": "LNGOLZ7qdXiX",
        "outputId": "a5bcf258-3be4-4439-ac7f-1b7c5f398648"
      },
      "source": [
        "# lets implement the K Means algorithm to perform Clustering analysis\n",
        "km = KMeans(n_clusters = 4, init = 'k-means++', max_iter = 300, n_init = 10, random_state = 0)\n",
        "y_means = km.fit_predict(x)\n",
        "\n",
        "# lets find out the Results\n",
        "a = data['label']\n",
        "y_means = pd.DataFrame(y_means)\n",
        "z = pd.concat([y_means, a], axis = 1)\n",
        "z = z.rename(columns = {0: 'cluster'})\n",
        "\n",
        "# lets check the Clusters of each Crops\n",
        "print(\"Lets check the Results After Applying the K Means Clustering Analysis \\n\")\n",
        "print(\"Crops in First Cluster:\", z[z['cluster'] == 0]['label'].unique())\n",
        "print(\"---------------------------------------------------------------\")\n",
        "print(\"Crops in Second Cluster:\", z[z['cluster'] == 1]['label'].unique())\n",
        "print(\"---------------------------------------------------------------\")\n",
        "print(\"Crops in Third Cluster:\", z[z['cluster'] == 2]['label'].unique())\n",
        "print(\"---------------------------------------------------------------\")\n",
        "print(\"Crops in Forth Cluster:\", z[z['cluster'] == 3]['label'].unique())"
      ],
      "execution_count": null,
      "outputs": [
        {
          "output_type": "stream",
          "text": [
            "Lets check the Results After Applying the K Means Clustering Analysis \n",
            "\n",
            "Crops in First Cluster: ['maize' 'chickpea' 'kidneybeans' 'pigeonpeas' 'mothbeans' 'mungbean'\n",
            " 'blackgram' 'lentil' 'pomegranate' 'mango' 'orange' 'papaya' 'coconut']\n",
            "---------------------------------------------------------------\n",
            "Crops in Second Cluster: ['grapes' 'apple']\n",
            "---------------------------------------------------------------\n",
            "Crops in Third Cluster: ['maize' 'banana' 'watermelon' 'muskmelon' 'papaya' 'cotton' 'coffee']\n",
            "---------------------------------------------------------------\n",
            "Crops in Forth Cluster: ['rice' 'pigeonpeas' 'papaya' 'coconut' 'jute' 'coffee']\n"
          ],
          "name": "stdout"
        }
      ]
    },
    {
      "cell_type": "markdown",
      "metadata": {
        "id": "DOiMrV6WdXiY"
      },
      "source": [
        "### visualizing the Hidden Patterns"
      ]
    },
    {
      "cell_type": "code",
      "metadata": {
        "id": "oHy_Sp1BdXiZ",
        "outputId": "1933a377-4ae1-4df9-cfb4-1fa33220401c"
      },
      "source": [
        "### Data Visualizations\n",
        "\n",
        "plt.rcParams['figure.figsize'] = (15, 8)\n",
        "\n",
        "plt.subplot(2, 4, 1)\n",
        "sns.barplot(data['N'], data['label'])\n",
        "plt.ylabel(' ')\n",
        "plt.xlabel('Ratio of Nitrogen', fontsize = 10)\n",
        "plt.yticks(fontsize = 10)\n",
        "\n",
        "plt.subplot(2, 4, 2)\n",
        "sns.barplot(data['P'], data['label'])\n",
        "plt.ylabel(' ')\n",
        "plt.xlabel('Ratio of Phosphorous', fontsize = 10)\n",
        "plt.yticks(fontsize = 10)\n",
        "\n",
        "plt.subplot(2, 4, 3)\n",
        "sns.barplot(data['K'], data['label'])\n",
        "plt.ylabel(' ')\n",
        "plt.xlabel('Ratio of Potassium', fontsize = 10)\n",
        "plt.yticks(fontsize = 10)\n",
        "\n",
        "plt.subplot(2, 4, 4)\n",
        "sns.barplot(data['temperature'], data['label'])\n",
        "plt.ylabel(' ')\n",
        "plt.xlabel('Temperature', fontsize = 10)\n",
        "plt.yticks(fontsize = 10)\n",
        "\n",
        "plt.subplot(2, 4, 5)\n",
        "sns.barplot(data['humidity'], data['label'])\n",
        "plt.ylabel(' ')\n",
        "plt.xlabel('Humidity', fontsize = 10)\n",
        "plt.yticks(fontsize = 10)\n",
        "\n",
        "plt.subplot(2, 4, 6)\n",
        "sns.barplot(data['ph'], data['label'])\n",
        "plt.ylabel(' ')\n",
        "plt.xlabel('pH of Soil', fontsize = 10)\n",
        "plt.yticks(fontsize = 10)\n",
        "\n",
        "plt.subplot(2, 4, 7)\n",
        "sns.barplot(data['rainfall'], data['label'])\n",
        "plt.ylabel(' ')\n",
        "plt.xlabel('Rainfall', fontsize = 10)\n",
        "plt.yticks(fontsize = 10)\n",
        "\n",
        "plt.suptitle('Visualizing the Impact of Different Conditions on Crops', fontsize = 15)\n",
        "plt.show()"
      ],
      "execution_count": null,
      "outputs": [
        {
          "output_type": "display_data",
          "data": {
            "image/png": "[encoded data removed]",
            "text/plain": [
              "<Figure size 1080x576 with 7 Axes>"
            ]
          },
          "metadata": {
            "tags": [],
            "needs_background": "light"
          }
        }
      ]
    },
    {
      "cell_type": "markdown",
      "metadata": {
        "id": "sqfHnaqPdXiZ"
      },
      "source": [
        "### Predictive Modelling"
      ]
    },
    {
      "cell_type": "code",
      "metadata": {
        "id": "a9k7ZN4ZdXiZ",
        "outputId": "759df970-95e1-4b9f-b247-0f3b79b3e974"
      },
      "source": [
        "# lets split the Dataset for Predictive Modelling\n",
        "\n",
        "y = data['label']\n",
        "x = data.drop(['label'], axis = 1)\n",
        "\n",
        "print(\"Shape of x:\", x.shape)\n",
        "print(\"Shape of y:\", y.shape)"
      ],
      "execution_count": null,
      "outputs": [
        {
          "output_type": "stream",
          "text": [
            "Shape of x: (2200, 7)\n",
            "Shape of y: (2200,)\n"
          ],
          "name": "stdout"
        }
      ]
    },
    {
      "cell_type": "code",
      "metadata": {
        "id": "Ubn6EP6pdXia",
        "outputId": "292cbe39-ecbe-4bc8-b875-94f3f2ba2554"
      },
      "source": [
        "# lets create Training and Testing Sets for Validation of Results\n",
        "from sklearn.model_selection import train_test_split\n",
        "\n",
        "x_train, x_test, y_train, y_test = train_test_split(x, y, test_size = 0.2, random_state = 0)\n",
        "\n",
        "print(\"The Shape of x train:\", x_train.shape)\n",
        "print(\"The Shape of x test:\", x_test.shape)\n",
        "print(\"The Shape of y train:\", y_train.shape)\n",
        "print(\"The Shape of y test:\", y_test.shape)"
      ],
      "execution_count": null,
      "outputs": [
        {
          "output_type": "stream",
          "text": [
            "The Shape of x train: (1760, 7)\n",
            "The Shape of x test: (440, 7)\n",
            "The Shape of y train: (1760,)\n",
            "The Shape of y test: (440,)\n"
          ],
          "name": "stdout"
        }
      ]
    },
    {
      "cell_type": "code",
      "metadata": {
        "id": "bKYMls0VdXia"
      },
      "source": [
        "# lets create a Predictive Model\n",
        "\n",
        "from sklearn.linear_model import LogisticRegression\n",
        "\n",
        "model = LogisticRegression()\n",
        "model.fit(x_train, y_train)\n",
        "y_pred = model.predict(x_test)"
      ],
      "execution_count": null,
      "outputs": []
    },
    {
      "cell_type": "code",
      "metadata": {
        "id": "6lh-HC9tdXia",
        "outputId": "fd7c17c0-560e-4967-c5dd-c4c97ba386d3"
      },
      "source": [
        "# lets evaluate the Model Performance\n",
        "from sklearn.metrics import classification_report,\n",
        "\n",
        "# lets print the Classification Report also\n",
        "cr = classification_report(y_test, y_pred)\n",
        "print(cr)"
      ],
      "execution_count": null,
      "outputs": [
        {
          "output_type": "display_data",
          "data": {
            "image/png": "[encoded data removed]",
            "text/plain": [
              "<Figure size 720x720 with 2 Axes>"
            ]
          },
          "metadata": {
            "tags": [],
            "needs_background": "light"
          }
        },
        {
          "output_type": "stream",
          "text": [
            "              precision    recall  f1-score   support\n",
            "\n",
            "       apple       1.00      1.00      1.00        18\n",
            "      banana       1.00      1.00      1.00        18\n",
            "   blackgram       0.86      0.82      0.84        22\n",
            "    chickpea       1.00      1.00      1.00        23\n",
            "     coconut       1.00      1.00      1.00        15\n",
            "      coffee       1.00      1.00      1.00        17\n",
            "      cotton       0.89      1.00      0.94        16\n",
            "      grapes       1.00      1.00      1.00        18\n",
            "        jute       0.84      1.00      0.91        21\n",
            " kidneybeans       1.00      1.00      1.00        20\n",
            "      lentil       0.94      0.94      0.94        17\n",
            "       maize       0.94      0.89      0.91        18\n",
            "       mango       1.00      1.00      1.00        21\n",
            "   mothbeans       0.88      0.92      0.90        25\n",
            "    mungbean       1.00      1.00      1.00        17\n",
            "   muskmelon       1.00      1.00      1.00        23\n",
            "      orange       1.00      1.00      1.00        23\n",
            "      papaya       1.00      0.95      0.98        21\n",
            "  pigeonpeas       1.00      1.00      1.00        22\n",
            " pomegranate       1.00      1.00      1.00        23\n",
            "        rice       1.00      0.84      0.91        25\n",
            "  watermelon       1.00      1.00      1.00        17\n",
            "\n",
            "    accuracy                           0.97       440\n",
            "   macro avg       0.97      0.97      0.97       440\n",
            "weighted avg       0.97      0.97      0.97       440\n",
            "\n"
          ],
          "name": "stdout"
        }
      ]
    },
    {
      "cell_type": "markdown",
      "metadata": {
        "id": "r-vFWhWadXib"
      },
      "source": [
        "### Real time Predictions"
      ]
    },
    {
      "cell_type": "code",
      "metadata": {
        "id": "DI60HwGrdXib",
        "outputId": "abc187a7-40f9-4717-f36f-808abd9eb5f3"
      },
      "source": [
        "# lets chech the Head of the Dataset\n",
        "data.head()"
      ],
      "execution_count": null,
      "outputs": [
        {
          "output_type": "execute_result",
          "data": {
            "text/html": [
              "<div>\n",
              "<style scoped>\n",
              "    .dataframe tbody tr th:only-of-type {\n",
              "        vertical-align: middle;\n",
              "    }\n",
              "\n",
              "    .dataframe tbody tr th {\n",
              "        vertical-align: top;\n",
              "    }\n",
              "\n",
              "    .dataframe thead th {\n",
              "        text-align: right;\n",
              "    }\n",
              "</style>\n",
              "<table border=\"1\" class=\"dataframe\">\n",
              "  <thead>\n",
              "    <tr style=\"text-align: right;\">\n",
              "      <th></th>\n",
              "      <th>N</th>\n",
              "      <th>P</th>\n",
              "      <th>K</th>\n",
              "      <th>temperature</th>\n",
              "      <th>humidity</th>\n",
              "      <th>ph</th>\n",
              "      <th>rainfall</th>\n",
              "      <th>label</th>\n",
              "    </tr>\n",
              "  </thead>\n",
              "  <tbody>\n",
              "    <tr>\n",
              "      <th>0</th>\n",
              "      <td>90</td>\n",
              "      <td>42</td>\n",
              "      <td>43</td>\n",
              "      <td>20.879744</td>\n",
              "      <td>82.002744</td>\n",
              "      <td>6.502985</td>\n",
              "      <td>202.935536</td>\n",
              "      <td>rice</td>\n",
              "    </tr>\n",
              "    <tr>\n",
              "      <th>1</th>\n",
              "      <td>85</td>\n",
              "      <td>58</td>\n",
              "      <td>41</td>\n",
              "      <td>21.770462</td>\n",
              "      <td>80.319644</td>\n",
              "      <td>7.038096</td>\n",
              "      <td>226.655537</td>\n",
              "      <td>rice</td>\n",
              "    </tr>\n",
              "    <tr>\n",
              "      <th>2</th>\n",
              "      <td>60</td>\n",
              "      <td>55</td>\n",
              "      <td>44</td>\n",
              "      <td>23.004459</td>\n",
              "      <td>82.320763</td>\n",
              "      <td>7.840207</td>\n",
              "      <td>263.964248</td>\n",
              "      <td>rice</td>\n",
              "    </tr>\n",
              "    <tr>\n",
              "      <th>3</th>\n",
              "      <td>74</td>\n",
              "      <td>35</td>\n",
              "      <td>40</td>\n",
              "      <td>26.491096</td>\n",
              "      <td>80.158363</td>\n",
              "      <td>6.980401</td>\n",
              "      <td>242.864034</td>\n",
              "      <td>rice</td>\n",
              "    </tr>\n",
              "    <tr>\n",
              "      <th>4</th>\n",
              "      <td>78</td>\n",
              "      <td>42</td>\n",
              "      <td>42</td>\n",
              "      <td>20.130175</td>\n",
              "      <td>81.604873</td>\n",
              "      <td>7.628473</td>\n",
              "      <td>262.717340</td>\n",
              "      <td>rice</td>\n",
              "    </tr>\n",
              "  </tbody>\n",
              "</table>\n",
              "</div>"
            ],
            "text/plain": [
              "    N   P   K  temperature   humidity        ph    rainfall label\n",
              "0  90  42  43    20.879744  82.002744  6.502985  202.935536  rice\n",
              "1  85  58  41    21.770462  80.319644  7.038096  226.655537  rice\n",
              "2  60  55  44    23.004459  82.320763  7.840207  263.964248  rice\n",
              "3  74  35  40    26.491096  80.158363  6.980401  242.864034  rice\n",
              "4  78  42  42    20.130175  81.604873  7.628473  262.717340  rice"
            ]
          },
          "metadata": {
            "tags": []
          },
          "execution_count": 23
        }
      ]
    },
    {
      "cell_type": "code",
      "metadata": {
        "id": "fXdKc8aLdXib",
        "outputId": "40c4fc0d-9070-4772-fcf5-356915a46ce5"
      },
      "source": [
        "prediction = model.predict((np.array([[90,\n",
        "                                       40,\n",
        "                                       40,\n",
        "                                       20,\n",
        "                                       80,\n",
        "                                       7,\n",
        "                                       200]])))\n",
        "print(\"The Suggested Crop for Given Climatic Condition is :\", prediction)"
      ],
      "execution_count": null,
      "outputs": [
        {
          "output_type": "stream",
          "text": [
            "The Suggested Crop for Given Climatic Condition is : ['rice']\n"
          ],
          "name": "stdout"
        }
      ]
    },
    {
      "cell_type": "code",
      "metadata": {
        "id": "ItET06MydXic",
        "outputId": "bab4a68c-bd03-4129-e11b-58dc400c468a"
      },
      "source": [
        "# lets check the Model for Oranges also\n",
        "data[data['label'] == 'orange'].head()"
      ],
      "execution_count": null,
      "outputs": [
        {
          "output_type": "execute_result",
          "data": {
            "text/html": [
              "<div>\n",
              "<style scoped>\n",
              "    .dataframe tbody tr th:only-of-type {\n",
              "        vertical-align: middle;\n",
              "    }\n",
              "\n",
              "    .dataframe tbody tr th {\n",
              "        vertical-align: top;\n",
              "    }\n",
              "\n",
              "    .dataframe thead th {\n",
              "        text-align: right;\n",
              "    }\n",
              "</style>\n",
              "<table border=\"1\" class=\"dataframe\">\n",
              "  <thead>\n",
              "    <tr style=\"text-align: right;\">\n",
              "      <th></th>\n",
              "      <th>N</th>\n",
              "      <th>P</th>\n",
              "      <th>K</th>\n",
              "      <th>temperature</th>\n",
              "      <th>humidity</th>\n",
              "      <th>ph</th>\n",
              "      <th>rainfall</th>\n",
              "      <th>label</th>\n",
              "    </tr>\n",
              "  </thead>\n",
              "  <tbody>\n",
              "    <tr>\n",
              "      <th>1600</th>\n",
              "      <td>22</td>\n",
              "      <td>30</td>\n",
              "      <td>12</td>\n",
              "      <td>15.781442</td>\n",
              "      <td>92.510777</td>\n",
              "      <td>6.354007</td>\n",
              "      <td>119.035002</td>\n",
              "      <td>orange</td>\n",
              "    </tr>\n",
              "    <tr>\n",
              "      <th>1601</th>\n",
              "      <td>37</td>\n",
              "      <td>6</td>\n",
              "      <td>13</td>\n",
              "      <td>26.030973</td>\n",
              "      <td>91.508193</td>\n",
              "      <td>7.511755</td>\n",
              "      <td>101.284774</td>\n",
              "      <td>orange</td>\n",
              "    </tr>\n",
              "    <tr>\n",
              "      <th>1602</th>\n",
              "      <td>27</td>\n",
              "      <td>13</td>\n",
              "      <td>6</td>\n",
              "      <td>13.360506</td>\n",
              "      <td>91.356082</td>\n",
              "      <td>7.335158</td>\n",
              "      <td>111.226688</td>\n",
              "      <td>orange</td>\n",
              "    </tr>\n",
              "    <tr>\n",
              "      <th>1603</th>\n",
              "      <td>7</td>\n",
              "      <td>16</td>\n",
              "      <td>9</td>\n",
              "      <td>18.879577</td>\n",
              "      <td>92.043045</td>\n",
              "      <td>7.813917</td>\n",
              "      <td>114.665951</td>\n",
              "      <td>orange</td>\n",
              "    </tr>\n",
              "    <tr>\n",
              "      <th>1604</th>\n",
              "      <td>20</td>\n",
              "      <td>7</td>\n",
              "      <td>9</td>\n",
              "      <td>29.477417</td>\n",
              "      <td>91.578029</td>\n",
              "      <td>7.129137</td>\n",
              "      <td>111.172750</td>\n",
              "      <td>orange</td>\n",
              "    </tr>\n",
              "  </tbody>\n",
              "</table>\n",
              "</div>"
            ],
            "text/plain": [
              "       N   P   K  temperature   humidity        ph    rainfall   label\n",
              "1600  22  30  12    15.781442  92.510777  6.354007  119.035002  orange\n",
              "1601  37   6  13    26.030973  91.508193  7.511755  101.284774  orange\n",
              "1602  27  13   6    13.360506  91.356082  7.335158  111.226688  orange\n",
              "1603   7  16   9    18.879577  92.043045  7.813917  114.665951  orange\n",
              "1604  20   7   9    29.477417  91.578029  7.129137  111.172750  orange"
            ]
          },
          "metadata": {
            "tags": []
          },
          "execution_count": 25
        }
      ]
    },
    {
      "cell_type": "code",
      "metadata": {
        "id": "PFTINqGbdXic",
        "outputId": "f591b763-b203-4b4a-fac0-42c16d131a12"
      },
      "source": [
        "# lets do some Real time Predictions\n",
        "prediction = model.predict((np.array([[20,\n",
        "                                       30,\n",
        "                                       10,\n",
        "                                       15,\n",
        "                                       90,\n",
        "                                       7.5,\n",
        "                                       100]])))\n",
        "print(\"The Suggested Crop for Given Climatic Condition is :\", prediction)"
      ],
      "execution_count": null,
      "outputs": [
        {
          "output_type": "stream",
          "text": [
            "The Suggested Crop for Given Climatic Condition is : ['orange']\n"
          ],
          "name": "stdout"
        }
      ]
    },
    {
      "cell_type": "code",
      "metadata": {
        "id": "vU-OOpzpdXid",
        "outputId": "497d1e61-4b26-4451-96e0-0b08b718fb4d"
      },
      "source": [
        "# lets do some Real time Predictions\n",
        "prediction = model.predict((np.array([[20,\n",
        "                                       30,\n",
        "                                       10,\n",
        "                                       15,\n",
        "                                       90,\n",
        "                                       7.5,\n",
        "                                       100]])))\n",
        "print(\"The Suggested Crop for Given Climatic Condition is :\", prediction)"
      ],
      "execution_count": null,
      "outputs": [
        {
          "output_type": "error",
          "ename": "NameError",
          "evalue": "name 'model' is not defined",
          "traceback": [
            "\u001b[1;31m---------------------------------------------------------------------------\u001b[0m",
            "\u001b[1;31mNameError\u001b[0m                                 Traceback (most recent call last)",
            "\u001b[1;32m<ipython-input-1-0130f20c6a6a>\u001b[0m in \u001b[0;36m<module>\u001b[1;34m\u001b[0m\n\u001b[0;32m      1\u001b[0m \u001b[1;31m# lets do some Real time Predictions\u001b[0m\u001b[1;33m\u001b[0m\u001b[1;33m\u001b[0m\u001b[1;33m\u001b[0m\u001b[0m\n\u001b[1;32m----> 2\u001b[1;33m prediction = model.predict((np.array([[20,\n\u001b[0m\u001b[0;32m      3\u001b[0m                                        \u001b[1;36m30\u001b[0m\u001b[1;33m,\u001b[0m\u001b[1;33m\u001b[0m\u001b[1;33m\u001b[0m\u001b[0m\n\u001b[0;32m      4\u001b[0m                                        \u001b[1;36m10\u001b[0m\u001b[1;33m,\u001b[0m\u001b[1;33m\u001b[0m\u001b[1;33m\u001b[0m\u001b[0m\n\u001b[0;32m      5\u001b[0m                                        \u001b[1;36m15\u001b[0m\u001b[1;33m,\u001b[0m\u001b[1;33m\u001b[0m\u001b[1;33m\u001b[0m\u001b[0m\n",
            "\u001b[1;31mNameError\u001b[0m: name 'model' is not defined"
          ]
        }
      ]
    },
    {
      "cell_type": "code",
      "metadata": {
        "id": "hjiQ6M3fdXid"
      },
      "source": [
        ""
      ],
      "execution_count": null,
      "outputs": []
    }
  ]
}